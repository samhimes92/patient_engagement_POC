{
 "cells": [
  {
   "cell_type": "markdown",
   "id": "0535c45d",
   "metadata": {},
   "source": [
    "# Patient engagement prediction\n",
    "Distribution of variables taken from [this study](https://www.ncbi.nlm.nih.gov/pmc/articles/PMC6243417/)"
   ]
  },
  {
   "cell_type": "code",
   "execution_count": 2,
   "id": "f07f2f4d",
   "metadata": {},
   "outputs": [],
   "source": [
    "import random\n",
    "import pandas as pd\n",
    "from sklearn.model_selection import train_test_split\n",
    "from sklearn.preprocessing import OneHotEncoder\n",
    "from sklearn.ensemble import RandomForestClassifier\n",
    "from sklearn.metrics import confusion_matrix, accuracy_score\n"
   ]
  },
  {
   "cell_type": "code",
   "execution_count": 11,
   "id": "45496a4f",
   "metadata": {},
   "outputs": [],
   "source": [
    "#First time patient (self.first)\n",
    "#0 = F\n",
    "#1 = T\n",
    "#Translator Needed (self.translator)\n",
    "#0 = F\n",
    "#1 = T\n",
    "#Race (self.race)\n",
    "#0 = Native American/Alaskan Native\n",
    "#1 = Asian\n",
    "#2 = Black\n",
    "#3 = Multiple\n",
    "#4 = Native Hawaiian\n",
    "#5 = White\n",
    "#Ethnicity (self.ethnicity)\n",
    "#0 = Hispanic/Latino\n",
    "#1 = Not Nispanic/Latino\n",
    "#2 = Unspecified\n",
    "#Gender (self.gender)\n",
    "#0 = Male\n",
    "#1 = Female\n",
    "#Marital Status (self.marital_s)\n",
    "#0 = Divorced\n",
    "#1 = Legally Separated\n",
    "#2 = Married\n",
    "#3 = Partner\n",
    "#4 = Single\n",
    "#5 = Widow\n",
    "#Cell phone ownership (self.cell)\n",
    "#0 = No\n",
    "#1 = Yes\n",
    "#Email availability (self.email)\n",
    "#0 = No\n",
    "#1 = Yes\n",
    "#Using patient portal (self.portal)\n",
    "#0 = No\n",
    "#1 = Yes\n",
    "#Employment status (self.employment)\n",
    "#0 = Employed full-time\n",
    "#1 = Part time\n",
    "#2 = Not Employed\n",
    "#3 = Retired\n",
    "#4 = Self employed\n",
    "#Insurance (self.insurance)\n",
    "#0 = Commercial\n",
    "#1 = Marketplace\n",
    "#2 = Medicaid\n",
    "#3 = Medicare\n",
    "#4 = Self pay\n",
    "#Smoking status (self.smoking)\n",
    "#0 = Every day\n",
    "#1 = Some days\n",
    "#2 = Former\n",
    "#3 = Never\n",
    "#Came to appointment(self.appointment)\n",
    "#0 = no\n",
    "#1 = yes"
   ]
  },
  {
   "cell_type": "code",
   "execution_count": 59,
   "id": "4082a9c2",
   "metadata": {},
   "outputs": [],
   "source": [
    "class Patient_Attended:\n",
    "    def __init__(self):\n",
    "        self.first = random.choices([0, 1], weights=(97.9,2.1))\n",
    "        self.translator = random.choices([0, 1], weights=(84.8,15.2))\n",
    "        self.race = random.choices([0,1,2,3,4,5], weights=(.1,4.2,30.3,3.9,1.1,60.4))\n",
    "        self.ethnicity = random.choices([0,1,2], weights=(19.6,75,5.4))\n",
    "        self.gender = random.choices([0,1], weights=(38.6,61.4))\n",
    "        self.marital_s = random.choices([0,1,2,3,4,5], weights=(3.3,1.3,12.8,.4,80.8,1.2))\n",
    "        self.cell = random.choices([0,1], weights=(18.2,81.8)) \n",
    "        self.email = random.choices([0,1], weights=(70.6,29.4))\n",
    "        self.portal = random.choices([0,1], weights=(78.2,21.8))\n",
    "        self.employment = random.choices([0,1,2,3,4], weights=(13,5.1,79.6,1.5,.5))\n",
    "        self.insurance = random.choices([0,1,2,3,4], weights=(14.8,.6,66.8,5.6,12.2))\n",
    "        self.smoking = random.choices([0,1,2,3], weights=(22.8,2.8,13,61.3))\n",
    "        self.appointment = 1\n",
    "        \n",
    "class Patient_Missed:\n",
    "    def __init__(self):\n",
    "        self.first = random.choices([0, 1], weights=(97.6,2.4))\n",
    "        self.translator = random.choices([0, 1], weights=(92,8))\n",
    "        self.race = random.choices([0,1,2,3,4,5], weights=(.1,2,37.7,3.7,.07,55.7))\n",
    "        self.ethnicity = random.choices([0,1,2], weights=(11.9,80.2,7.9))\n",
    "        self.gender = random.choices([0,1], weights=(35.2,64.8))\n",
    "        self.marital_s = random.choices([0,1,2,3,4,5], weights=(3.1,1.7,9.5,.3,83.4,.8))\n",
    "        self.cell = random.choices([0,1], weights=(26.4,73.6)) \n",
    "        self.email = random.choices([0,1], weights=(74.5,25.5))\n",
    "        self.portal = random.choices([0,1], weights=(83.5,16.5))\n",
    "        self.employment = random.choices([0,1,2,3,4], weights=(10.8,5.5,82.4,.4,.3))\n",
    "        self.insurance = random.choices([0,1,2,3,4], weights=(8.4,.3,69,3.6,18.7))\n",
    "        self.smoking = random.choices([0,1,2,3], weights=(35.5,3.4,12,49.1))\n",
    "        self.appointment = 0\n",
    "        \n",
    "        "
   ]
  },
  {
   "cell_type": "code",
   "execution_count": 76,
   "id": "d108a575",
   "metadata": {},
   "outputs": [],
   "source": [
    "df_dict = {'first':[],\n",
    "        'translator':[],\n",
    "        'race':[],\n",
    "        'ethnicity':[],\n",
    "        'gender':[],\n",
    "        'marital_s':[],\n",
    "        'cell':[],\n",
    "        'email':[],\n",
    "        'portal':[],\n",
    "        'employment':[],\n",
    "        'insurance':[],\n",
    "        'smoking':[],\n",
    "        'attended_appointment':[]  \n",
    "       }\n",
    "\n",
    "for i in range(100000):\n",
    "    pa = Patient_Attended()\n",
    "    pm = Patient_Missed()\n",
    "    \n",
    "    df_dict['first'].append(pa.first[0])\n",
    "    df_dict['translator'].append(pa.translator[0])\n",
    "    df_dict['race'].append(pa.race[0])\n",
    "    df_dict['ethnicity'].append(pa.ethnicity[0])\n",
    "    df_dict['gender'].append(pa.gender[0])\n",
    "    df_dict['marital_s'].append(pa.marital_s[0])\n",
    "    df_dict['cell'].append(pa.cell[0])\n",
    "    df_dict['email'].append(pa.email[0])\n",
    "    df_dict['portal'].append(pa.portal[0])\n",
    "    df_dict['employment'].append(pa.employment[0])\n",
    "    df_dict['insurance'].append(pa.insurance[0])\n",
    "    df_dict['smoking'].append(pa.smoking[0])\n",
    "    df_dict['attended_appointment'].append(pa.appointment)\n",
    "    \n",
    "    df_dict['first'].append(pm.first[0])\n",
    "    df_dict['translator'].append(pm.translator[0])\n",
    "    df_dict['race'].append(pm.race[0])\n",
    "    df_dict['ethnicity'].append(pm.ethnicity[0])\n",
    "    df_dict['gender'].append(pm.gender[0])\n",
    "    df_dict['marital_s'].append(pm.marital_s[0])\n",
    "    df_dict['cell'].append(pm.cell[0])\n",
    "    df_dict['email'].append(pm.email[0])\n",
    "    df_dict['portal'].append(pm.portal[0])\n",
    "    df_dict['employment'].append(pm.employment[0])\n",
    "    df_dict['insurance'].append(pm.insurance[0])\n",
    "    df_dict['smoking'].append(pm.smoking[0])\n",
    "    df_dict['attended_appointment'].append(pm.appointment)\n",
    "\n",
    "\n",
    "full_df = pd.DataFrame(df_dict)"
   ]
  },
  {
   "cell_type": "code",
   "execution_count": 77,
   "id": "074cefd5",
   "metadata": {},
   "outputs": [],
   "source": [
    "#Shuffle data\n",
    "full_df = full_df.sample(frac = 1)\n",
    "\n"
   ]
  },
  {
   "cell_type": "code",
   "execution_count": 78,
   "id": "b50e6386",
   "metadata": {},
   "outputs": [],
   "source": [
    "y_data = full_df[\"attended_appointment\"]\n",
    "x_data = full_df.loc[:, full_df.columns != \"attended_appointment\"]"
   ]
  },
  {
   "cell_type": "code",
   "execution_count": 79,
   "id": "f15966ed",
   "metadata": {},
   "outputs": [
    {
     "data": {
      "text/html": [
       "<div>\n",
       "<style scoped>\n",
       "    .dataframe tbody tr th:only-of-type {\n",
       "        vertical-align: middle;\n",
       "    }\n",
       "\n",
       "    .dataframe tbody tr th {\n",
       "        vertical-align: top;\n",
       "    }\n",
       "\n",
       "    .dataframe thead th {\n",
       "        text-align: right;\n",
       "    }\n",
       "</style>\n",
       "<table border=\"1\" class=\"dataframe\">\n",
       "  <thead>\n",
       "    <tr style=\"text-align: right;\">\n",
       "      <th></th>\n",
       "      <th>first</th>\n",
       "      <th>translator</th>\n",
       "      <th>race</th>\n",
       "      <th>ethnicity</th>\n",
       "      <th>gender</th>\n",
       "      <th>marital_s</th>\n",
       "      <th>cell</th>\n",
       "      <th>email</th>\n",
       "      <th>portal</th>\n",
       "      <th>employment</th>\n",
       "      <th>insurance</th>\n",
       "      <th>smoking</th>\n",
       "    </tr>\n",
       "  </thead>\n",
       "  <tbody>\n",
       "    <tr>\n",
       "      <th>160860</th>\n",
       "      <td>0</td>\n",
       "      <td>0</td>\n",
       "      <td>5</td>\n",
       "      <td>1</td>\n",
       "      <td>0</td>\n",
       "      <td>4</td>\n",
       "      <td>1</td>\n",
       "      <td>0</td>\n",
       "      <td>1</td>\n",
       "      <td>2</td>\n",
       "      <td>2</td>\n",
       "      <td>3</td>\n",
       "    </tr>\n",
       "    <tr>\n",
       "      <th>118606</th>\n",
       "      <td>0</td>\n",
       "      <td>0</td>\n",
       "      <td>5</td>\n",
       "      <td>1</td>\n",
       "      <td>1</td>\n",
       "      <td>4</td>\n",
       "      <td>0</td>\n",
       "      <td>1</td>\n",
       "      <td>1</td>\n",
       "      <td>2</td>\n",
       "      <td>3</td>\n",
       "      <td>0</td>\n",
       "    </tr>\n",
       "    <tr>\n",
       "      <th>89575</th>\n",
       "      <td>0</td>\n",
       "      <td>0</td>\n",
       "      <td>2</td>\n",
       "      <td>1</td>\n",
       "      <td>1</td>\n",
       "      <td>4</td>\n",
       "      <td>0</td>\n",
       "      <td>1</td>\n",
       "      <td>0</td>\n",
       "      <td>2</td>\n",
       "      <td>2</td>\n",
       "      <td>3</td>\n",
       "    </tr>\n",
       "    <tr>\n",
       "      <th>130200</th>\n",
       "      <td>0</td>\n",
       "      <td>0</td>\n",
       "      <td>5</td>\n",
       "      <td>1</td>\n",
       "      <td>0</td>\n",
       "      <td>4</td>\n",
       "      <td>1</td>\n",
       "      <td>0</td>\n",
       "      <td>0</td>\n",
       "      <td>2</td>\n",
       "      <td>2</td>\n",
       "      <td>2</td>\n",
       "    </tr>\n",
       "    <tr>\n",
       "      <th>135258</th>\n",
       "      <td>0</td>\n",
       "      <td>0</td>\n",
       "      <td>2</td>\n",
       "      <td>1</td>\n",
       "      <td>1</td>\n",
       "      <td>4</td>\n",
       "      <td>1</td>\n",
       "      <td>0</td>\n",
       "      <td>0</td>\n",
       "      <td>2</td>\n",
       "      <td>2</td>\n",
       "      <td>3</td>\n",
       "    </tr>\n",
       "    <tr>\n",
       "      <th>...</th>\n",
       "      <td>...</td>\n",
       "      <td>...</td>\n",
       "      <td>...</td>\n",
       "      <td>...</td>\n",
       "      <td>...</td>\n",
       "      <td>...</td>\n",
       "      <td>...</td>\n",
       "      <td>...</td>\n",
       "      <td>...</td>\n",
       "      <td>...</td>\n",
       "      <td>...</td>\n",
       "      <td>...</td>\n",
       "    </tr>\n",
       "    <tr>\n",
       "      <th>35106</th>\n",
       "      <td>0</td>\n",
       "      <td>0</td>\n",
       "      <td>5</td>\n",
       "      <td>1</td>\n",
       "      <td>1</td>\n",
       "      <td>0</td>\n",
       "      <td>0</td>\n",
       "      <td>1</td>\n",
       "      <td>1</td>\n",
       "      <td>3</td>\n",
       "      <td>0</td>\n",
       "      <td>3</td>\n",
       "    </tr>\n",
       "    <tr>\n",
       "      <th>162151</th>\n",
       "      <td>0</td>\n",
       "      <td>0</td>\n",
       "      <td>5</td>\n",
       "      <td>1</td>\n",
       "      <td>1</td>\n",
       "      <td>2</td>\n",
       "      <td>1</td>\n",
       "      <td>0</td>\n",
       "      <td>0</td>\n",
       "      <td>2</td>\n",
       "      <td>2</td>\n",
       "      <td>3</td>\n",
       "    </tr>\n",
       "    <tr>\n",
       "      <th>132233</th>\n",
       "      <td>0</td>\n",
       "      <td>0</td>\n",
       "      <td>5</td>\n",
       "      <td>1</td>\n",
       "      <td>0</td>\n",
       "      <td>4</td>\n",
       "      <td>0</td>\n",
       "      <td>1</td>\n",
       "      <td>0</td>\n",
       "      <td>2</td>\n",
       "      <td>4</td>\n",
       "      <td>3</td>\n",
       "    </tr>\n",
       "    <tr>\n",
       "      <th>138057</th>\n",
       "      <td>0</td>\n",
       "      <td>0</td>\n",
       "      <td>2</td>\n",
       "      <td>0</td>\n",
       "      <td>0</td>\n",
       "      <td>4</td>\n",
       "      <td>1</td>\n",
       "      <td>0</td>\n",
       "      <td>1</td>\n",
       "      <td>2</td>\n",
       "      <td>2</td>\n",
       "      <td>3</td>\n",
       "    </tr>\n",
       "    <tr>\n",
       "      <th>186754</th>\n",
       "      <td>0</td>\n",
       "      <td>0</td>\n",
       "      <td>1</td>\n",
       "      <td>1</td>\n",
       "      <td>1</td>\n",
       "      <td>4</td>\n",
       "      <td>0</td>\n",
       "      <td>0</td>\n",
       "      <td>0</td>\n",
       "      <td>3</td>\n",
       "      <td>4</td>\n",
       "      <td>2</td>\n",
       "    </tr>\n",
       "  </tbody>\n",
       "</table>\n",
       "<p>200000 rows × 12 columns</p>\n",
       "</div>"
      ],
      "text/plain": [
       "        first  translator  race  ethnicity  gender  marital_s  cell  email   \n",
       "160860      0           0     5          1       0          4     1      0  \\\n",
       "118606      0           0     5          1       1          4     0      1   \n",
       "89575       0           0     2          1       1          4     0      1   \n",
       "130200      0           0     5          1       0          4     1      0   \n",
       "135258      0           0     2          1       1          4     1      0   \n",
       "...       ...         ...   ...        ...     ...        ...   ...    ...   \n",
       "35106       0           0     5          1       1          0     0      1   \n",
       "162151      0           0     5          1       1          2     1      0   \n",
       "132233      0           0     5          1       0          4     0      1   \n",
       "138057      0           0     2          0       0          4     1      0   \n",
       "186754      0           0     1          1       1          4     0      0   \n",
       "\n",
       "        portal  employment  insurance  smoking  \n",
       "160860       1           2          2        3  \n",
       "118606       1           2          3        0  \n",
       "89575        0           2          2        3  \n",
       "130200       0           2          2        2  \n",
       "135258       0           2          2        3  \n",
       "...        ...         ...        ...      ...  \n",
       "35106        1           3          0        3  \n",
       "162151       0           2          2        3  \n",
       "132233       0           2          4        3  \n",
       "138057       1           2          2        3  \n",
       "186754       0           3          4        2  \n",
       "\n",
       "[200000 rows x 12 columns]"
      ]
     },
     "execution_count": 79,
     "metadata": {},
     "output_type": "execute_result"
    }
   ],
   "source": [
    "x_data"
   ]
  },
  {
   "cell_type": "code",
   "execution_count": 80,
   "id": "e4b10ed2",
   "metadata": {},
   "outputs": [
    {
     "data": {
      "text/plain": [
       "160860    1\n",
       "118606    1\n",
       "89575     0\n",
       "130200    1\n",
       "135258    1\n",
       "         ..\n",
       "35106     1\n",
       "162151    0\n",
       "132233    0\n",
       "138057    0\n",
       "186754    1\n",
       "Name: attended_appointment, Length: 200000, dtype: int64"
      ]
     },
     "execution_count": 80,
     "metadata": {},
     "output_type": "execute_result"
    }
   ],
   "source": [
    "y_data"
   ]
  },
  {
   "cell_type": "code",
   "execution_count": 81,
   "id": "0edb9054",
   "metadata": {},
   "outputs": [],
   "source": [
    "X_train, X_test, y_train, y_test = train_test_split(x_data, y_data, test_size=0.33, random_state=42)"
   ]
  },
  {
   "cell_type": "code",
   "execution_count": 82,
   "id": "ddbafe8a",
   "metadata": {},
   "outputs": [],
   "source": [
    "ohe = OneHotEncoder()"
   ]
  },
  {
   "cell_type": "code",
   "execution_count": 83,
   "id": "1f4f16ff",
   "metadata": {},
   "outputs": [],
   "source": [
    "#One hot encoding because all the variables are categorical\n",
    "X_train = ohe.fit_transform(X_train)\n",
    "X_test = ohe.fit_transform(X_test)"
   ]
  },
  {
   "cell_type": "code",
   "execution_count": 84,
   "id": "867de1e9",
   "metadata": {},
   "outputs": [
    {
     "data": {
      "text/html": [
       "<style>#sk-container-id-5 {color: black;background-color: white;}#sk-container-id-5 pre{padding: 0;}#sk-container-id-5 div.sk-toggleable {background-color: white;}#sk-container-id-5 label.sk-toggleable__label {cursor: pointer;display: block;width: 100%;margin-bottom: 0;padding: 0.3em;box-sizing: border-box;text-align: center;}#sk-container-id-5 label.sk-toggleable__label-arrow:before {content: \"▸\";float: left;margin-right: 0.25em;color: #696969;}#sk-container-id-5 label.sk-toggleable__label-arrow:hover:before {color: black;}#sk-container-id-5 div.sk-estimator:hover label.sk-toggleable__label-arrow:before {color: black;}#sk-container-id-5 div.sk-toggleable__content {max-height: 0;max-width: 0;overflow: hidden;text-align: left;background-color: #f0f8ff;}#sk-container-id-5 div.sk-toggleable__content pre {margin: 0.2em;color: black;border-radius: 0.25em;background-color: #f0f8ff;}#sk-container-id-5 input.sk-toggleable__control:checked~div.sk-toggleable__content {max-height: 200px;max-width: 100%;overflow: auto;}#sk-container-id-5 input.sk-toggleable__control:checked~label.sk-toggleable__label-arrow:before {content: \"▾\";}#sk-container-id-5 div.sk-estimator input.sk-toggleable__control:checked~label.sk-toggleable__label {background-color: #d4ebff;}#sk-container-id-5 div.sk-label input.sk-toggleable__control:checked~label.sk-toggleable__label {background-color: #d4ebff;}#sk-container-id-5 input.sk-hidden--visually {border: 0;clip: rect(1px 1px 1px 1px);clip: rect(1px, 1px, 1px, 1px);height: 1px;margin: -1px;overflow: hidden;padding: 0;position: absolute;width: 1px;}#sk-container-id-5 div.sk-estimator {font-family: monospace;background-color: #f0f8ff;border: 1px dotted black;border-radius: 0.25em;box-sizing: border-box;margin-bottom: 0.5em;}#sk-container-id-5 div.sk-estimator:hover {background-color: #d4ebff;}#sk-container-id-5 div.sk-parallel-item::after {content: \"\";width: 100%;border-bottom: 1px solid gray;flex-grow: 1;}#sk-container-id-5 div.sk-label:hover label.sk-toggleable__label {background-color: #d4ebff;}#sk-container-id-5 div.sk-serial::before {content: \"\";position: absolute;border-left: 1px solid gray;box-sizing: border-box;top: 0;bottom: 0;left: 50%;z-index: 0;}#sk-container-id-5 div.sk-serial {display: flex;flex-direction: column;align-items: center;background-color: white;padding-right: 0.2em;padding-left: 0.2em;position: relative;}#sk-container-id-5 div.sk-item {position: relative;z-index: 1;}#sk-container-id-5 div.sk-parallel {display: flex;align-items: stretch;justify-content: center;background-color: white;position: relative;}#sk-container-id-5 div.sk-item::before, #sk-container-id-5 div.sk-parallel-item::before {content: \"\";position: absolute;border-left: 1px solid gray;box-sizing: border-box;top: 0;bottom: 0;left: 50%;z-index: -1;}#sk-container-id-5 div.sk-parallel-item {display: flex;flex-direction: column;z-index: 1;position: relative;background-color: white;}#sk-container-id-5 div.sk-parallel-item:first-child::after {align-self: flex-end;width: 50%;}#sk-container-id-5 div.sk-parallel-item:last-child::after {align-self: flex-start;width: 50%;}#sk-container-id-5 div.sk-parallel-item:only-child::after {width: 0;}#sk-container-id-5 div.sk-dashed-wrapped {border: 1px dashed gray;margin: 0 0.4em 0.5em 0.4em;box-sizing: border-box;padding-bottom: 0.4em;background-color: white;}#sk-container-id-5 div.sk-label label {font-family: monospace;font-weight: bold;display: inline-block;line-height: 1.2em;}#sk-container-id-5 div.sk-label-container {text-align: center;}#sk-container-id-5 div.sk-container {/* jupyter's `normalize.less` sets `[hidden] { display: none; }` but bootstrap.min.css set `[hidden] { display: none !important; }` so we also need the `!important` here to be able to override the default hidden behavior on the sphinx rendered scikit-learn.org. See: https://github.com/scikit-learn/scikit-learn/issues/21755 */display: inline-block !important;position: relative;}#sk-container-id-5 div.sk-text-repr-fallback {display: none;}</style><div id=\"sk-container-id-5\" class=\"sk-top-container\"><div class=\"sk-text-repr-fallback\"><pre>RandomForestClassifier(max_depth=10, random_state=0)</pre><b>In a Jupyter environment, please rerun this cell to show the HTML representation or trust the notebook. <br />On GitHub, the HTML representation is unable to render, please try loading this page with nbviewer.org.</b></div><div class=\"sk-container\" hidden><div class=\"sk-item\"><div class=\"sk-estimator sk-toggleable\"><input class=\"sk-toggleable__control sk-hidden--visually\" id=\"sk-estimator-id-5\" type=\"checkbox\" checked><label for=\"sk-estimator-id-5\" class=\"sk-toggleable__label sk-toggleable__label-arrow\">RandomForestClassifier</label><div class=\"sk-toggleable__content\"><pre>RandomForestClassifier(max_depth=10, random_state=0)</pre></div></div></div></div></div>"
      ],
      "text/plain": [
       "RandomForestClassifier(max_depth=10, random_state=0)"
      ]
     },
     "execution_count": 84,
     "metadata": {},
     "output_type": "execute_result"
    }
   ],
   "source": [
    "clf = RandomForestClassifier(max_depth=10, random_state=0)\n",
    "clf.fit(X_train, y_train.to_numpy())"
   ]
  },
  {
   "cell_type": "code",
   "execution_count": 85,
   "id": "0f1951f7",
   "metadata": {},
   "outputs": [
    {
     "data": {
      "text/plain": [
       "<66000x41 sparse matrix of type '<class 'numpy.float64'>'\n",
       "\twith 792000 stored elements in Compressed Sparse Row format>"
      ]
     },
     "execution_count": 85,
     "metadata": {},
     "output_type": "execute_result"
    }
   ],
   "source": [
    "X_train\n",
    "X_test"
   ]
  },
  {
   "cell_type": "code",
   "execution_count": 86,
   "id": "edf1e6ad",
   "metadata": {},
   "outputs": [],
   "source": [
    "y_pred = clf.predict(X_test)"
   ]
  },
  {
   "cell_type": "code",
   "execution_count": 89,
   "id": "53c0819c",
   "metadata": {},
   "outputs": [
    {
     "name": "stdout",
     "output_type": "stream",
     "text": [
      "Confusion Matrix\n",
      "[[20598 12452]\n",
      " [12542 20408]]\n"
     ]
    }
   ],
   "source": [
    "print(\"Confusion Matrix\")\n",
    "print(confusion_matrix(y_test, y_pred))"
   ]
  },
  {
   "cell_type": "code",
   "execution_count": 90,
   "id": "830fdfe5",
   "metadata": {},
   "outputs": [
    {
     "name": "stdout",
     "output_type": "stream",
     "text": [
      "Accuracy\n",
      "0.6213030303030304\n"
     ]
    }
   ],
   "source": [
    "print(\"Accuracy\")\n",
    "print(accuracy_score(y_test, y_pred))"
   ]
  },
  {
   "cell_type": "code",
   "execution_count": null,
   "id": "2abfd2be",
   "metadata": {},
   "outputs": [],
   "source": []
  }
 ],
 "metadata": {
  "kernelspec": {
   "display_name": "Python 3 (ipykernel)",
   "language": "python",
   "name": "python3"
  },
  "language_info": {
   "codemirror_mode": {
    "name": "ipython",
    "version": 3
   },
   "file_extension": ".py",
   "mimetype": "text/x-python",
   "name": "python",
   "nbconvert_exporter": "python",
   "pygments_lexer": "ipython3",
   "version": "3.9.7"
  }
 },
 "nbformat": 4,
 "nbformat_minor": 5
}
